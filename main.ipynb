{
 "cells": [
  {
   "cell_type": "code",
   "execution_count": 1,
   "id": "760ca549-efd3-4505-a0f0-11e3e65f9ea1",
   "metadata": {},
   "outputs": [],
   "source": [
    "# INSTRUCTIONS\n",
    "# total number of months included in dataset.\n",
    "# The net total amount of Profit/Losses over the entire period.\n",
    "# The average of the changes in Profit/Losses over the entire period.\n",
    "# The greatest increase in profits (date and amount) over the entire period.\n",
    "# The greatest decrease in losses (date and amount) over the entire period.\n",
    "# Your final script should print the analysis to the terminal and export a text file with the results."
   ]
  },
  {
   "cell_type": "code",
   "execution_count": null,
   "id": "a3c1898d-44cb-473b-9c64-137503a95356",
   "metadata": {},
   "outputs": [],
   "source": [
    "import numpy\n",
    "\n"
   ]
  },
  {
   "cell_type": "code",
   "execution_count": 23,
   "id": "5d566a35-3546-47a0-86f8-1faabe25cece",
   "metadata": {},
   "outputs": [
    {
     "name": "stdout",
     "output_type": "stream",
     "text": [
      "Date,Profit/Losses\n",
      "Jan-2010,867884\n",
      "Feb-2010,984655\n",
      "Mar-2010,322013\n",
      "Apr-2010,-69417\n",
      "May-2010,310503\n",
      "Jun-2010,522857\n",
      "Jul-2010,1033096\n",
      "Aug-2010,604885\n",
      "Sep-2010,-216386\n",
      "Oct-2010,477532\n",
      "Nov-2010,893810\n",
      "Dec-2010,-80353\n",
      "Jan-2011,779806\n",
      "Feb-2011,-335203\n",
      "Mar-2011,697845\n",
      "Apr-2011,793163\n",
      "May-2011,485070\n",
      "Jun-2011,584122\n",
      "Jul-2011,62729\n",
      "Aug-2011,668179\n",
      "Sep-2011,899906\n",
      "Oct-2011,834719\n",
      "Nov-2011,132003\n",
      "Dec-2011,309978\n",
      "Jan-2012,-755566\n",
      "Feb-2012,1170593\n",
      "Mar-2012,252788\n",
      "Apr-2012,1151518\n",
      "May-2012,817256\n",
      "Jun-2012,570757\n",
      "Jul-2012,506702\n",
      "Aug-2012,-1022534\n",
      "Sep-2012,475062\n",
      "Oct-2012,779976\n",
      "Nov-2012,144175\n",
      "Dec-2012,542494\n",
      "Jan-2013,359333\n",
      "Feb-2013,321469\n",
      "Mar-2013,67780\n",
      "Apr-2013,471435\n",
      "May-2013,565603\n",
      "Jun-2013,872480\n",
      "Jul-2013,789480\n",
      "Aug-2013,999942\n",
      "Sep-2013,-1196225\n",
      "Oct-2013,268997\n",
      "Nov-2013,-687986\n",
      "Dec-2013,1150461\n",
      "Jan-2014,682458\n",
      "Feb-2014,617856\n",
      "Mar-2014,824098\n",
      "Apr-2014,581943\n",
      "May-2014,132864\n",
      "Jun-2014,448062\n",
      "Jul-2014,689161\n",
      "Aug-2014,800701\n",
      "Sep-2014,1166643\n",
      "Oct-2014,947333\n",
      "Nov-2014,578668\n",
      "Dec-2014,988505\n",
      "Jan-2015,1139715\n",
      "Feb-2015,1029471\n",
      "Mar-2015,687533\n",
      "Apr-2015,-524626\n",
      "May-2015,158620\n",
      "Jun-2015,87795\n",
      "Jul-2015,423389\n",
      "Aug-2015,840723\n",
      "Sep-2015,568529\n",
      "Oct-2015,332067\n",
      "Nov-2015,989499\n",
      "Dec-2015,778237\n",
      "Jan-2016,650000\n",
      "Feb-2016,-1100387\n",
      "Mar-2016,-174946\n",
      "Apr-2016,757143\n",
      "May-2016,445709\n",
      "Jun-2016,712961\n",
      "Jul-2016,-1163797\n",
      "Aug-2016,569899\n",
      "Sep-2016,768450\n",
      "Oct-2016,102685\n",
      "Nov-2016,795914\n",
      "Dec-2016,60988\n",
      "Jan-2017,138230\n",
      "Feb-2017,671099\n",
      "\n"
     ]
    }
   ],
   "source": [
    "menu=[]\n",
    "f = open(\"budget_data.csv\")\n",
    "print(f.read())    \n"
   ]
  },
  {
   "cell_type": "code",
   "execution_count": 28,
   "id": "18fca4ca-cb4e-4669-9c10-f5e53fb68c5c",
   "metadata": {},
   "outputs": [
    {
     "name": "stdout",
     "output_type": "stream",
     "text": [
      "###Financial Analysis###\n",
      "Total Months: 86\n",
      "Total sum: 38382578\n"
     ]
    }
   ],
   "source": [
    "#The total number of months included in the dataset.\n",
    "# I found the total months by len profit_and_loss.\n",
    "\n",
    "print(\"###Financial Analysis###\")\n",
    "\n",
    "total_months=86\n",
    "print(f\"Total Months: {total_months}\")\n",
    "#The net total amount of Profit/Losses over the entire period.\n",
    "\n",
    "profit_and_loss= [867884,984655,322013,-69417,310503,522857,1033096,604885,-216386,477532,893810,-80353,779806,-335203,697845,793163,485070,584122,62729,668179,899906,834719,132003,309978,-755566,1170593,252788,1151518,817256,570757,506702,-1022534,475062,779976,144175,542494,359333,321469,67780,471435,565603,872480,789480,999942,-1196225,268997,-687986,1150461,682458,617856,824098,581943,132864,448062,689161,800701,1166643,947333,578668,988505,1139715,1029471,687533,-524626,158620,87795,423389,840723,568529,332067,989499,778237,650000,-1100387,-174946,757143,445709,712961,-1163797,569899,768450,102685,795914,60988,138230,671099]                      \n",
    "sum=0 \n",
    "for number in profit_and_loss:\n",
    "    sum += number\n",
    "\n",
    "print(f\"Total sum: {sum}\")\n",
    "\n",
    "#The average of the changes in Profit/Losses over the entire period.\n",
    "\n",
    "#Average  Change: $-2315.12\n",
    "#Greatest Increase in Profits: Feb-2012 ($1926159)\n",
    "#Greatest Decrease in Profits: Sep-2013 ($-2196167)\n",
    "\n",
    "#I could not figure out how to get the right output for the last 3 questions :( "
   ]
  },
  {
   "cell_type": "code",
   "execution_count": null,
   "id": "f3e356e4-0ebe-4cbb-8890-2f810a330293",
   "metadata": {},
   "outputs": [],
   "source": [
    "\n"
   ]
  },
  {
   "cell_type": "code",
   "execution_count": null,
   "id": "099c77b2-96d3-4580-be44-3ce6fb24654d",
   "metadata": {},
   "outputs": [],
   "source": []
  },
  {
   "cell_type": "code",
   "execution_count": null,
   "id": "e2b1a247-e9a0-49b5-8675-519ec504257e",
   "metadata": {},
   "outputs": [],
   "source": []
  },
  {
   "cell_type": "code",
   "execution_count": null,
   "id": "e1dcabce-a842-4a06-b67c-497c48db9640",
   "metadata": {},
   "outputs": [],
   "source": []
  },
  {
   "cell_type": "code",
   "execution_count": null,
   "id": "64192ae2-612e-4877-a28d-c2c2e8a374c2",
   "metadata": {},
   "outputs": [],
   "source": []
  }
 ],
 "metadata": {
  "kernelspec": {
   "display_name": "Python 3 (ipykernel)",
   "language": "python",
   "name": "python3"
  },
  "language_info": {
   "codemirror_mode": {
    "name": "ipython",
    "version": 3
   },
   "file_extension": ".py",
   "mimetype": "text/x-python",
   "name": "python",
   "nbconvert_exporter": "python",
   "pygments_lexer": "ipython3",
   "version": "3.9.7"
  }
 },
 "nbformat": 4,
 "nbformat_minor": 5
}
